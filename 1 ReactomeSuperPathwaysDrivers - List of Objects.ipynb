{
 "cells": [
  {
   "cell_type": "markdown",
   "metadata": {},
   "source": [
    "# 1 ReactomeSuperPathwaysDrivers - List of Objects"
   ]
  },
  {
   "cell_type": "code",
   "execution_count": 1,
   "metadata": {
    "tags": []
   },
   "outputs": [],
   "source": [
    "import matplotlib.pyplot as plt\n",
    "import networkx as nx\n",
    "import pandas as pd\n",
    "import numpy as np\n",
    "import glob\n",
    "import pickle "
   ]
  },
  {
   "cell_type": "markdown",
   "metadata": {},
   "source": [
    "### Reactome FI Network"
   ]
  },
  {
   "cell_type": "code",
   "execution_count": 3,
   "metadata": {
    "tags": []
   },
   "outputs": [
    {
     "name": "stdout",
     "output_type": "stream",
     "text": [
      "Name: Reactome\n",
      "Type: Graph\n",
      "Number of nodes: 14071\n",
      "Number of edges: 268857\n",
      "Average degree:  38.2143\n",
      "\n"
     ]
    }
   ],
   "source": [
    "df = pd.read_csv(\"1 input/Reactome2019_FIsInGene_020720_with_annotations.txt\",sep='\\t')\n",
    "ReactomeFI = nx.from_pandas_edgelist(df,source='Gene1',target='Gene2')\n",
    "ReactomeFI.name = 'Reactome'\n",
    "print(nx.info(ReactomeFI),end='\\n\\n')"
   ]
  },
  {
   "cell_type": "code",
   "execution_count": 4,
   "metadata": {},
   "outputs": [
    {
     "name": "stdout",
     "output_type": "stream",
     "text": [
      "Name: ReactomeFI_LCC\n",
      "Type: Graph\n",
      "Number of nodes: 13877\n",
      "Number of edges: 268733\n",
      "Average degree:  38.7307\n",
      "\n"
     ]
    }
   ],
   "source": [
    "CC = list(nx.connected_components(ReactomeFI))\n",
    "ReactomeFI_LCC= nx.subgraph(ReactomeFI,max(CC,key=len))\n",
    "ReactomeFI_LCC.name = 'ReactomeFI_LCC'\n",
    "print(nx.info(ReactomeFI_LCC),end='\\n\\n')"
   ]
  },
  {
   "cell_type": "markdown",
   "metadata": {},
   "source": [
    "### 711 Know Cancer Genes and 250 False Positive"
   ]
  },
  {
   "cell_type": "code",
   "execution_count": 5,
   "metadata": {
    "tags": []
   },
   "outputs": [
    {
     "name": "stdout",
     "output_type": "stream",
     "text": [
      "knowDriversIntogen:  568\n",
      "knowDriversNCG:  711\n",
      "knowDriversUnion:  866\n"
     ]
    }
   ],
   "source": [
    "#http://ncg.kcl.ac.uk/statistics.php\n",
    "knowDriversDF=pd.read_csv('1 input/NCG6_711 Known cancer genes - DRIVERS.tsv',sep='\\t',usecols=['symbol'])\n",
    "knowDriversSetNcg=set(knowDriversDF['symbol'])\n",
    "\n",
    "#https://www.intogen.org/search\n",
    "knowDriversDF = pd.read_csv('1 input/Compendium_Cancer_Genes.tsv',sep='\\t')\n",
    "knowDriversSetIntogen=set(knowDriversDF['SYMBOL'])\n",
    "\n",
    "print('knowDriversIntogen: ',len(knowDriversSetIntogen))\n",
    "print('knowDriversNCG: ',len(knowDriversSetNcg))\n",
    "knowDriversSetNcg.union(knowDriversSetIntogen)\n",
    "knowDriversUnion = knowDriversSetNcg.union(knowDriversSetIntogen)\n",
    "print('knowDriversUnion: ',len(knowDriversUnion))"
   ]
  },
  {
   "cell_type": "code",
   "execution_count": 6,
   "metadata": {},
   "outputs": [],
   "source": [
    "a_file = open(\"1 output/knowDriversUnion.pkl\", \"wb\")\n",
    "pickle.dump(knowDriversUnion, a_file)\n",
    "a_file.close()"
   ]
  },
  {
   "cell_type": "markdown",
   "metadata": {},
   "source": [
    "### Pathway Gene Sets"
   ]
  },
  {
   "cell_type": "code",
   "execution_count": 8,
   "metadata": {
    "tags": []
   },
   "outputs": [
    {
     "name": "stdout",
     "output_type": "stream",
     "text": [
      "Total Pathways:  2484\n"
     ]
    }
   ],
   "source": [
    "f = open(\"1 input/ReactomePathways.gmt\", \"r\")\n",
    "pathwaysGeneSets={}\n",
    "pathwaysGeneSetsByName={}\n",
    "for x in f:\n",
    "    line=x.strip().split('\\t')\n",
    "    name=line[0]\n",
    "    pathId=line[1]\n",
    "    geneSet=set(line[2:])\n",
    "    pathwaysGeneSets[pathId]=[name,geneSet] \n",
    "    pathwaysGeneSetsByName[name]=[pathId,geneSet] \n",
    "f.close()\n",
    "\n",
    "print('Total Pathways: ',len(pathwaysGeneSets))"
   ]
  },
  {
   "cell_type": "markdown",
   "metadata": {},
   "source": [
    "### SuperPathways\n",
    "https://academic.oup.com/nar/article/48/D1/D498/5613674?login=true\n",
    "<br>\n",
    "\"[...] These reactions are grouped into 1803 pathways grouped into 26 <b>superpathways</b> (e.g. immune system, metabolism and autophagy) that describe normal cellular functions. \n",
    "<br><br>\n",
    "An additional ‘disease’ superpathway groups 484 annotations of disease counterparts of these normal cellular processes. "
   ]
  },
  {
   "cell_type": "code",
   "execution_count": 9,
   "metadata": {
    "tags": []
   },
   "outputs": [],
   "source": [
    "class SuperPathwayClass:\n",
    "    def __init__(self, name,idPathway,geneSet,networkWithCCs,networkLCC,drivers):\n",
    "        self.name = name\n",
    "        self.idPathway = idPathway\n",
    "        self.geneSet = geneSet\n",
    "        self.networkCCs = networkWithCCs\n",
    "        self.networkLCC = networkLCC\n",
    "        self.drivers = drivers\n",
    "        self.topologicalFeaturesLCC = None\n",
    "        self.layout_LCC_kamada_kawai= None\n",
    "        self.layout_CCs_spring = None\n",
    "        \n",
    "    def info(self):\n",
    "        info={}\n",
    "        info['Name'] = self.name\n",
    "        info['idPathway'] = self.idPathway        \n",
    "        info['lenSet'] = len(self.geneSet)\n",
    "        info['lenCCs'] = str(len(self.networkCCs.nodes)) +' ('+str(round(len(self.networkCCs.nodes)/len(self.geneSet)*100))+'%)'\n",
    "        info['lenLCC'] = str(len(self.networkLCC.nodes)) +' ('+str(round(len(self.networkLCC.nodes)/len(self.geneSet)*100))+'%)'       \n",
    "        driversLen = len(self.drivers)\n",
    "        info['driversLCC'] = driversLen\n",
    "        info['drivers %'] = round(driversLen/len(self.networkLCC.nodes)*100)\n",
    "        \n",
    "        return info"
   ]
  },
  {
   "cell_type": "code",
   "execution_count": 10,
   "metadata": {
    "tags": []
   },
   "outputs": [
    {
     "name": "stdout",
     "output_type": "stream",
     "text": [
      "allPathways:  (20567, 3)\n",
      "humansPathways:  (2516, 3)\n"
     ]
    },
    {
     "data": {
      "text/html": [
       "<div>\n",
       "<style scoped>\n",
       "    .dataframe tbody tr th:only-of-type {\n",
       "        vertical-align: middle;\n",
       "    }\n",
       "\n",
       "    .dataframe tbody tr th {\n",
       "        vertical-align: top;\n",
       "    }\n",
       "\n",
       "    .dataframe thead th {\n",
       "        text-align: right;\n",
       "    }\n",
       "</style>\n",
       "<table border=\"1\" class=\"dataframe\">\n",
       "  <thead>\n",
       "    <tr style=\"text-align: right;\">\n",
       "      <th></th>\n",
       "      <th>ST_ID</th>\n",
       "      <th>pwName</th>\n",
       "      <th>species</th>\n",
       "    </tr>\n",
       "  </thead>\n",
       "  <tbody>\n",
       "    <tr>\n",
       "      <th>9940</th>\n",
       "      <td>R-HSA-164843</td>\n",
       "      <td>2-LTR circle formation</td>\n",
       "      <td>Homo sapiens</td>\n",
       "    </tr>\n",
       "    <tr>\n",
       "      <th>9941</th>\n",
       "      <td>R-HSA-73843</td>\n",
       "      <td>5-Phosphoribose 1-diphosphate biosynthesis</td>\n",
       "      <td>Homo sapiens</td>\n",
       "    </tr>\n",
       "    <tr>\n",
       "      <th>9942</th>\n",
       "      <td>R-HSA-1971475</td>\n",
       "      <td>A tetrasaccharide linker sequence is required ...</td>\n",
       "      <td>Homo sapiens</td>\n",
       "    </tr>\n",
       "  </tbody>\n",
       "</table>\n",
       "</div>"
      ],
      "text/plain": [
       "              ST_ID                                             pwName  \\\n",
       "9940   R-HSA-164843                             2-LTR circle formation   \n",
       "9941    R-HSA-73843         5-Phosphoribose 1-diphosphate biosynthesis   \n",
       "9942  R-HSA-1971475  A tetrasaccharide linker sequence is required ...   \n",
       "\n",
       "           species  \n",
       "9940  Homo sapiens  \n",
       "9941  Homo sapiens  \n",
       "9942  Homo sapiens  "
      ]
     },
     "execution_count": 10,
     "metadata": {},
     "output_type": "execute_result"
    }
   ],
   "source": [
    "#The \"Complete list of pathways\" file maps the Reactome Stable identifier (ST_ID) to a pathway name and corresponding species.\n",
    "allPathways = pd.read_csv('1 input/Complete List of Pathways.txt',sep='\\t',names=['ST_ID','pwName','species'])\n",
    "print('allPathways: ',allPathways.shape)\n",
    "humansPathways=allPathways[allPathways['species']=='Homo sapiens']\n",
    "print('humansPathways: ',humansPathways.shape)\n",
    "humansPathways.head(3)"
   ]
  },
  {
   "cell_type": "code",
   "execution_count": 11,
   "metadata": {
    "tags": []
   },
   "outputs": [
    {
     "name": "stdout",
     "output_type": "stream",
     "text": [
      "hierarchy (20668, 2)\n",
      "humansHierarchy (2535, 2)\n"
     ]
    },
    {
     "data": {
      "text/html": [
       "<div>\n",
       "<style scoped>\n",
       "    .dataframe tbody tr th:only-of-type {\n",
       "        vertical-align: middle;\n",
       "    }\n",
       "\n",
       "    .dataframe tbody tr th {\n",
       "        vertical-align: top;\n",
       "    }\n",
       "\n",
       "    .dataframe thead th {\n",
       "        text-align: right;\n",
       "    }\n",
       "</style>\n",
       "<table border=\"1\" class=\"dataframe\">\n",
       "  <thead>\n",
       "    <tr style=\"text-align: right;\">\n",
       "      <th></th>\n",
       "      <th>ST_ID_Father</th>\n",
       "      <th>ST_ID_Child</th>\n",
       "    </tr>\n",
       "  </thead>\n",
       "  <tbody>\n",
       "    <tr>\n",
       "      <th>9999</th>\n",
       "      <td>R-HSA-109581</td>\n",
       "      <td>R-HSA-109606</td>\n",
       "    </tr>\n",
       "    <tr>\n",
       "      <th>10000</th>\n",
       "      <td>R-HSA-109581</td>\n",
       "      <td>R-HSA-169911</td>\n",
       "    </tr>\n",
       "    <tr>\n",
       "      <th>10001</th>\n",
       "      <td>R-HSA-109581</td>\n",
       "      <td>R-HSA-5357769</td>\n",
       "    </tr>\n",
       "  </tbody>\n",
       "</table>\n",
       "</div>"
      ],
      "text/plain": [
       "       ST_ID_Father    ST_ID_Child\n",
       "9999   R-HSA-109581   R-HSA-109606\n",
       "10000  R-HSA-109581   R-HSA-169911\n",
       "10001  R-HSA-109581  R-HSA-5357769"
      ]
     },
     "execution_count": 11,
     "metadata": {},
     "output_type": "execute_result"
    }
   ],
   "source": [
    "#The \"Pathway hierarchy relationship\" file consists of two columns of Reactome Stable identifiers (ST_ID), defining the relationship between pathways within the pathway hierarchy. The first column provides the parent pathway stable identifier, whereas the second column provides the child pathway stable identifier.\n",
    "hierarchy = pd.read_csv('1 input/Pathways hierarchy relationship.txt',sep='\\t',names=['ST_ID_Father','ST_ID_Child'])\n",
    "print('hierarchy',hierarchy.shape)\n",
    "humansHierarchy=hierarchy[hierarchy[\"ST_ID_Father\"].isin(list(humansPathways.ST_ID))]\n",
    "print('humansHierarchy',humansHierarchy.shape)\n",
    "humansHierarchy.head(3)"
   ]
  },
  {
   "cell_type": "code",
   "execution_count": 12,
   "metadata": {
    "tags": []
   },
   "outputs": [],
   "source": [
    "#The Creation of the SuperWays as Trees was made in other notebook.\n",
    "#Here I just create a G for each one and get the info (name and id) from the root node\n",
    "superPathwaysObjs={}\n",
    "for file in glob.glob('1 input/superPathwaysAsTrees/*'):\n",
    "    fileName = file.split('\\\\')[1].replace('.gml','')\n",
    "    if(fileName!='allPathwaysHierarchyGraph'):\n",
    "        fileName=fileName.split('_')\n",
    "        name=fileName[1]\n",
    "        idPath=fileName[0]\n",
    "        \n",
    "        #G = nx.read_gml(file)        \n",
    "        name=name\n",
    "        idPathway=idPath\n",
    "        geneSet=pathwaysGeneSets[idPath][1]\n",
    "        subG=nx.subgraph(ReactomeFI,geneSet)\n",
    "        CC = list(nx.connected_components(subG))\n",
    "        LCC= nx.subgraph(subG,max(CC,key=len))\n",
    "\n",
    "        obj = SuperPathwayClass(\n",
    "            name,\n",
    "            idPathway,\n",
    "            geneSet,\n",
    "            subG,\n",
    "            LCC,\n",
    "            set(LCC.nodes) & knowDriversUnion\n",
    "        )\n",
    "\n",
    "        superPathwaysObjs[name]=obj"
   ]
  },
  {
   "cell_type": "markdown",
   "metadata": {},
   "source": [
    "### Save Reactome as a Obj"
   ]
  },
  {
   "cell_type": "markdown",
   "metadata": {},
   "source": [
    "###### Get all pathways gene sets together"
   ]
  },
  {
   "cell_type": "code",
   "execution_count": 13,
   "metadata": {},
   "outputs": [
    {
     "name": "stdout",
     "output_type": "stream",
     "text": [
      "Total in All Superpathways Gene Sets whitout repetition:  11375\n",
      "Total in All Superpathways Gene Sets whith repetition:  120605\n"
     ]
    }
   ],
   "source": [
    "allGenesSets=set()\n",
    "allGenesList=[]\n",
    "for gSet in pathwaysGeneSets:\n",
    "    allGenesList.extend(pathwaysGeneSets[gSet][1])\n",
    "    \n",
    "    #As far as know, there is no 'extend' for Sets, so:\n",
    "    for gene in pathwaysGeneSets[gSet][1]:\n",
    "        allGenesSets.add(gene)       \n",
    "    \n",
    "print('Total in All Superpathways Gene Sets whitout repetition: ',len(allGenesSets))    \n",
    "print('Total in All Superpathways Gene Sets whith repetition: ',len(allGenesList))    "
   ]
  },
  {
   "cell_type": "code",
   "execution_count": 14,
   "metadata": {},
   "outputs": [],
   "source": [
    "name='ReactomeFI_LCC_AllSuperPathways'\n",
    "idPathway=''\n",
    "geneSet=allGenesSets\n",
    "subG=nx.subgraph(ReactomeFI_LCC,geneSet)\n",
    "CC = list(nx.connected_components(subG))\n",
    "LCC= nx.subgraph(subG,max(CC,key=len))\n",
    "\n",
    "obj = SuperPathwayClass(\n",
    "    name,\n",
    "    idPathway,\n",
    "    geneSet,\n",
    "    subG,\n",
    "    LCC,\n",
    "    set(LCC.nodes) & knowDriversUnion\n",
    ")\n",
    "\n",
    "superPathwaysObjs[name]=obj"
   ]
  },
  {
   "cell_type": "code",
   "execution_count": 15,
   "metadata": {},
   "outputs": [],
   "source": [
    "file = open(\"1 output/ReactomeFI_LCC_AllSuperPathwaysObj.pkl\", \"wb\")\n",
    "pickle.dump(obj, file)\n",
    "file.close()\n",
    "\n",
    "a_file = open(\"1 output/superPathwaysObjs.pkl\", \"wb\")\n",
    "pickle.dump(superPathwaysObjs, a_file)\n",
    "a_file.close()"
   ]
  },
  {
   "cell_type": "markdown",
   "metadata": {},
   "source": [
    "### Super Pathways Overview"
   ]
  },
  {
   "cell_type": "code",
   "execution_count": 16,
   "metadata": {
    "tags": []
   },
   "outputs": [],
   "source": [
    "overView={}\n",
    "for k in sorted(superPathwaysObjs):\n",
    "    overView[k]=superPathwaysObjs[k].info()\n",
    "    \n",
    "overView=pd.DataFrame.from_dict(overView,orient='index')\n",
    "overView.set_index(overView.columns[0],inplace=True)\n",
    "\n",
    "a_file = open(\"1 output/overView.pkl\", \"wb\")\n",
    "pickle.dump(overView, a_file)\n",
    "a_file.close()"
   ]
  },
  {
   "cell_type": "code",
   "execution_count": 17,
   "metadata": {},
   "outputs": [
    {
     "data": {
      "text/html": [
       "<div>\n",
       "<style scoped>\n",
       "    .dataframe tbody tr th:only-of-type {\n",
       "        vertical-align: middle;\n",
       "    }\n",
       "\n",
       "    .dataframe tbody tr th {\n",
       "        vertical-align: top;\n",
       "    }\n",
       "\n",
       "    .dataframe thead th {\n",
       "        text-align: right;\n",
       "    }\n",
       "</style>\n",
       "<table border=\"1\" class=\"dataframe\">\n",
       "  <thead>\n",
       "    <tr style=\"text-align: right;\">\n",
       "      <th></th>\n",
       "      <th>lenSet</th>\n",
       "      <th>lenCCs</th>\n",
       "      <th>lenLCC</th>\n",
       "      <th>driversLCC</th>\n",
       "      <th>drivers %</th>\n",
       "    </tr>\n",
       "    <tr>\n",
       "      <th>Name</th>\n",
       "      <th></th>\n",
       "      <th></th>\n",
       "      <th></th>\n",
       "      <th></th>\n",
       "      <th></th>\n",
       "    </tr>\n",
       "  </thead>\n",
       "  <tbody>\n",
       "    <tr>\n",
       "      <th>Chromatin organization</th>\n",
       "      <td>240</td>\n",
       "      <td>218 (91%)</td>\n",
       "      <td>206 (86%)</td>\n",
       "      <td>45</td>\n",
       "      <td>22</td>\n",
       "    </tr>\n",
       "    <tr>\n",
       "      <th>Circadian Clock</th>\n",
       "      <td>70</td>\n",
       "      <td>69 (99%)</td>\n",
       "      <td>64 (91%)</td>\n",
       "      <td>12</td>\n",
       "      <td>19</td>\n",
       "    </tr>\n",
       "    <tr>\n",
       "      <th>DNA Repair</th>\n",
       "      <td>312</td>\n",
       "      <td>290 (93%)</td>\n",
       "      <td>284 (91%)</td>\n",
       "      <td>48</td>\n",
       "      <td>17</td>\n",
       "    </tr>\n",
       "    <tr>\n",
       "      <th>Reproduction</th>\n",
       "      <td>114</td>\n",
       "      <td>95 (83%)</td>\n",
       "      <td>81 (71%)</td>\n",
       "      <td>14</td>\n",
       "      <td>17</td>\n",
       "    </tr>\n",
       "    <tr>\n",
       "      <th>Gene expression (Transcription)</th>\n",
       "      <td>1536</td>\n",
       "      <td>1392 (91%)</td>\n",
       "      <td>1367 (89%)</td>\n",
       "      <td>194</td>\n",
       "      <td>14</td>\n",
       "    </tr>\n",
       "    <tr>\n",
       "      <th>Developmental Biology</th>\n",
       "      <td>1097</td>\n",
       "      <td>972 (89%)</td>\n",
       "      <td>962 (88%)</td>\n",
       "      <td>137</td>\n",
       "      <td>14</td>\n",
       "    </tr>\n",
       "    <tr>\n",
       "      <th>Programmed Cell Death</th>\n",
       "      <td>216</td>\n",
       "      <td>208 (96%)</td>\n",
       "      <td>201 (93%)</td>\n",
       "      <td>27</td>\n",
       "      <td>13</td>\n",
       "    </tr>\n",
       "    <tr>\n",
       "      <th>Cell-Cell communication</th>\n",
       "      <td>122</td>\n",
       "      <td>117 (96%)</td>\n",
       "      <td>115 (94%)</td>\n",
       "      <td>15</td>\n",
       "      <td>13</td>\n",
       "    </tr>\n",
       "    <tr>\n",
       "      <th>Signal Transduction</th>\n",
       "      <td>2542</td>\n",
       "      <td>2399 (94%)</td>\n",
       "      <td>2363 (93%)</td>\n",
       "      <td>285</td>\n",
       "      <td>12</td>\n",
       "    </tr>\n",
       "    <tr>\n",
       "      <th>Cellular responses to external stimuli</th>\n",
       "      <td>665</td>\n",
       "      <td>619 (93%)</td>\n",
       "      <td>604 (91%)</td>\n",
       "      <td>73</td>\n",
       "      <td>12</td>\n",
       "    </tr>\n",
       "    <tr>\n",
       "      <th>Cell Cycle</th>\n",
       "      <td>662</td>\n",
       "      <td>636 (96%)</td>\n",
       "      <td>632 (95%)</td>\n",
       "      <td>78</td>\n",
       "      <td>12</td>\n",
       "    </tr>\n",
       "    <tr>\n",
       "      <th>Immune System</th>\n",
       "      <td>2088</td>\n",
       "      <td>1910 (91%)</td>\n",
       "      <td>1818 (87%)</td>\n",
       "      <td>174</td>\n",
       "      <td>10</td>\n",
       "    </tr>\n",
       "    <tr>\n",
       "      <th>Hemostasis</th>\n",
       "      <td>687</td>\n",
       "      <td>608 (89%)</td>\n",
       "      <td>554 (81%)</td>\n",
       "      <td>54</td>\n",
       "      <td>10</td>\n",
       "    </tr>\n",
       "    <tr>\n",
       "      <th>Metabolism of proteins</th>\n",
       "      <td>2017</td>\n",
       "      <td>1816 (90%)</td>\n",
       "      <td>1725 (86%)</td>\n",
       "      <td>133</td>\n",
       "      <td>8</td>\n",
       "    </tr>\n",
       "    <tr>\n",
       "      <th>Organelle biogenesis and maintenance</th>\n",
       "      <td>282</td>\n",
       "      <td>271 (96%)</td>\n",
       "      <td>265 (94%)</td>\n",
       "      <td>22</td>\n",
       "      <td>8</td>\n",
       "    </tr>\n",
       "    <tr>\n",
       "      <th>Autophagy</th>\n",
       "      <td>132</td>\n",
       "      <td>131 (99%)</td>\n",
       "      <td>129 (98%)</td>\n",
       "      <td>10</td>\n",
       "      <td>8</td>\n",
       "    </tr>\n",
       "    <tr>\n",
       "      <th>ReactomeFI_LCC_AllSuperPathways</th>\n",
       "      <td>11375</td>\n",
       "      <td>9472 (83%)</td>\n",
       "      <td>9399 (83%)</td>\n",
       "      <td>649</td>\n",
       "      <td>7</td>\n",
       "    </tr>\n",
       "    <tr>\n",
       "      <th>Metabolism of RNA</th>\n",
       "      <td>721</td>\n",
       "      <td>651 (90%)</td>\n",
       "      <td>607 (84%)</td>\n",
       "      <td>42</td>\n",
       "      <td>7</td>\n",
       "    </tr>\n",
       "    <tr>\n",
       "      <th>Extracellular matrix organization</th>\n",
       "      <td>296</td>\n",
       "      <td>287 (97%)</td>\n",
       "      <td>272 (92%)</td>\n",
       "      <td>20</td>\n",
       "      <td>7</td>\n",
       "    </tr>\n",
       "    <tr>\n",
       "      <th>Vesicle-mediated transport</th>\n",
       "      <td>730</td>\n",
       "      <td>687 (94%)</td>\n",
       "      <td>661 (91%)</td>\n",
       "      <td>40</td>\n",
       "      <td>6</td>\n",
       "    </tr>\n",
       "    <tr>\n",
       "      <th>Neuronal System</th>\n",
       "      <td>393</td>\n",
       "      <td>368 (94%)</td>\n",
       "      <td>339 (86%)</td>\n",
       "      <td>20</td>\n",
       "      <td>6</td>\n",
       "    </tr>\n",
       "    <tr>\n",
       "      <th>Metabolism</th>\n",
       "      <td>2125</td>\n",
       "      <td>1650 (78%)</td>\n",
       "      <td>1371 (65%)</td>\n",
       "      <td>74</td>\n",
       "      <td>5</td>\n",
       "    </tr>\n",
       "    <tr>\n",
       "      <th>Muscle contraction</th>\n",
       "      <td>192</td>\n",
       "      <td>174 (91%)</td>\n",
       "      <td>156 (81%)</td>\n",
       "      <td>8</td>\n",
       "      <td>5</td>\n",
       "    </tr>\n",
       "    <tr>\n",
       "      <th>Transport of small molecules</th>\n",
       "      <td>723</td>\n",
       "      <td>540 (75%)</td>\n",
       "      <td>375 (52%)</td>\n",
       "      <td>13</td>\n",
       "      <td>3</td>\n",
       "    </tr>\n",
       "    <tr>\n",
       "      <th>DNA Replication</th>\n",
       "      <td>128</td>\n",
       "      <td>128 (100%)</td>\n",
       "      <td>128 (100%)</td>\n",
       "      <td>4</td>\n",
       "      <td>3</td>\n",
       "    </tr>\n",
       "    <tr>\n",
       "      <th>Sensory Perception</th>\n",
       "      <td>605</td>\n",
       "      <td>543 (90%)</td>\n",
       "      <td>498 (82%)</td>\n",
       "      <td>8</td>\n",
       "      <td>2</td>\n",
       "    </tr>\n",
       "    <tr>\n",
       "      <th>Protein localization</th>\n",
       "      <td>164</td>\n",
       "      <td>155 (95%)</td>\n",
       "      <td>150 (91%)</td>\n",
       "      <td>3</td>\n",
       "      <td>2</td>\n",
       "    </tr>\n",
       "    <tr>\n",
       "      <th>Digestion and absorption</th>\n",
       "      <td>28</td>\n",
       "      <td>16 (57%)</td>\n",
       "      <td>3 (11%)</td>\n",
       "      <td>0</td>\n",
       "      <td>0</td>\n",
       "    </tr>\n",
       "  </tbody>\n",
       "</table>\n",
       "</div>"
      ],
      "text/plain": [
       "                                        lenSet      lenCCs      lenLCC  \\\n",
       "Name                                                                     \n",
       "Chromatin organization                     240   218 (91%)   206 (86%)   \n",
       "Circadian Clock                             70    69 (99%)    64 (91%)   \n",
       "DNA Repair                                 312   290 (93%)   284 (91%)   \n",
       "Reproduction                               114    95 (83%)    81 (71%)   \n",
       "Gene expression (Transcription)           1536  1392 (91%)  1367 (89%)   \n",
       "Developmental Biology                     1097   972 (89%)   962 (88%)   \n",
       "Programmed Cell Death                      216   208 (96%)   201 (93%)   \n",
       "Cell-Cell communication                    122   117 (96%)   115 (94%)   \n",
       "Signal Transduction                       2542  2399 (94%)  2363 (93%)   \n",
       "Cellular responses to external stimuli     665   619 (93%)   604 (91%)   \n",
       "Cell Cycle                                 662   636 (96%)   632 (95%)   \n",
       "Immune System                             2088  1910 (91%)  1818 (87%)   \n",
       "Hemostasis                                 687   608 (89%)   554 (81%)   \n",
       "Metabolism of proteins                    2017  1816 (90%)  1725 (86%)   \n",
       "Organelle biogenesis and maintenance       282   271 (96%)   265 (94%)   \n",
       "Autophagy                                  132   131 (99%)   129 (98%)   \n",
       "ReactomeFI_LCC_AllSuperPathways          11375  9472 (83%)  9399 (83%)   \n",
       "Metabolism of RNA                          721   651 (90%)   607 (84%)   \n",
       "Extracellular matrix organization          296   287 (97%)   272 (92%)   \n",
       "Vesicle-mediated transport                 730   687 (94%)   661 (91%)   \n",
       "Neuronal System                            393   368 (94%)   339 (86%)   \n",
       "Metabolism                                2125  1650 (78%)  1371 (65%)   \n",
       "Muscle contraction                         192   174 (91%)   156 (81%)   \n",
       "Transport of small molecules               723   540 (75%)   375 (52%)   \n",
       "DNA Replication                            128  128 (100%)  128 (100%)   \n",
       "Sensory Perception                         605   543 (90%)   498 (82%)   \n",
       "Protein localization                       164   155 (95%)   150 (91%)   \n",
       "Digestion and absorption                    28    16 (57%)     3 (11%)   \n",
       "\n",
       "                                        driversLCC  drivers %  \n",
       "Name                                                           \n",
       "Chromatin organization                          45         22  \n",
       "Circadian Clock                                 12         19  \n",
       "DNA Repair                                      48         17  \n",
       "Reproduction                                    14         17  \n",
       "Gene expression (Transcription)                194         14  \n",
       "Developmental Biology                          137         14  \n",
       "Programmed Cell Death                           27         13  \n",
       "Cell-Cell communication                         15         13  \n",
       "Signal Transduction                            285         12  \n",
       "Cellular responses to external stimuli          73         12  \n",
       "Cell Cycle                                      78         12  \n",
       "Immune System                                  174         10  \n",
       "Hemostasis                                      54         10  \n",
       "Metabolism of proteins                         133          8  \n",
       "Organelle biogenesis and maintenance            22          8  \n",
       "Autophagy                                       10          8  \n",
       "ReactomeFI_LCC_AllSuperPathways                649          7  \n",
       "Metabolism of RNA                               42          7  \n",
       "Extracellular matrix organization               20          7  \n",
       "Vesicle-mediated transport                      40          6  \n",
       "Neuronal System                                 20          6  \n",
       "Metabolism                                      74          5  \n",
       "Muscle contraction                               8          5  \n",
       "Transport of small molecules                    13          3  \n",
       "DNA Replication                                  4          3  \n",
       "Sensory Perception                               8          2  \n",
       "Protein localization                             3          2  \n",
       "Digestion and absorption                         0          0  "
      ]
     },
     "execution_count": 17,
     "metadata": {},
     "output_type": "execute_result"
    }
   ],
   "source": [
    "overView.drop(['Disease']).sort_values(by=['drivers %','lenSet'],ascending=False).drop('idPathway', 1)"
   ]
  }
 ],
 "metadata": {
  "kernelspec": {
   "display_name": "Python 3",
   "language": "python",
   "name": "python3"
  },
  "language_info": {
   "codemirror_mode": {
    "name": "ipython",
    "version": 3
   },
   "file_extension": ".py",
   "mimetype": "text/x-python",
   "name": "python",
   "nbconvert_exporter": "python",
   "pygments_lexer": "ipython3",
   "version": "3.8.5"
  }
 },
 "nbformat": 4,
 "nbformat_minor": 4
}
